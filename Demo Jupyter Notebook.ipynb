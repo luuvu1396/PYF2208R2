{
 "cells": [
  {
   "cell_type": "markdown",
   "id": "68fa67d6",
   "metadata": {},
   "source": [
    "Đây là code để in một nội dung ra màn hình"
   ]
  },
  {
   "cell_type": "code",
   "execution_count": 9,
   "id": "eacd84f6",
   "metadata": {
    "scrolled": true
   },
   "outputs": [
    {
     "name": "stdout",
     "output_type": "stream",
     "text": [
      "Hello World! \n",
      "My name is Long \n",
      "I'm studying Python Fundamental\n"
     ]
    }
   ],
   "source": [
    "print(\"Hello World! \\nMy name is Long \\nI'm studying Python Fundamental\")"
   ]
  },
  {
   "cell_type": "code",
   "execution_count": null,
   "id": "c3ce3a74",
   "metadata": {},
   "outputs": [],
   "source": []
  }
 ],
 "metadata": {
  "kernelspec": {
   "display_name": "Python 3 (ipykernel)",
   "language": "python",
   "name": "python3"
  },
  "language_info": {
   "codemirror_mode": {
    "name": "ipython",
    "version": 3
   },
   "file_extension": ".py",
   "mimetype": "text/x-python",
   "name": "python",
   "nbconvert_exporter": "python",
   "pygments_lexer": "ipython3",
   "version": "3.10.5"
  }
 },
 "nbformat": 4,
 "nbformat_minor": 5
}
